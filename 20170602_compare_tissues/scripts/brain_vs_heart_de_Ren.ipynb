{
 "cells": [
  {
   "cell_type": "code",
   "execution_count": 1,
   "metadata": {
    "collapsed": true
   },
   "outputs": [],
   "source": [
    "%matplotlib inline\n",
    "import matplotlib.pyplot as plt\n",
    "import pybedtools as pb\n",
    "from matplotlib.colors import LogNorm\n",
    "import numpy as np\n",
    "from scipy import stats\n",
    "import pybedtools as pb\n",
    "font = {'family' : 'sans-serif',\n",
    "        'weight' : 'light',\n",
    "        'size'   : '12'}\n",
    "\n",
    "plt.rc('font', **font)"
   ]
  },
  {
   "cell_type": "code",
   "execution_count": 2,
   "metadata": {
    "collapsed": true
   },
   "outputs": [],
   "source": [
    "expr = {}\n",
    "\n",
    "with open(\"expr_diff.brain_vs_heart_wt.edgeR.txt\", \"r\") as fo:\n",
    "        for l in fo.read().splitlines():\n",
    "            if l.split(\"\\t\")[0] != \"gene_id\":\n",
    "                gene_name = l.split(\"\\t\")[1]\n",
    "                fdr = float(l.split(\"\\t\")[-2])\n",
    "                logF = float(l.split(\"\\t\")[2])\n",
    "                if \",\" in gene_name:\n",
    "                    for test in gene_name.split(\",\"): \n",
    "                        if fdr < 0.05:\n",
    "                            expr.setdefault(test.upper(),logF) \n",
    "                #print gene_name, fdr\n",
    "                else:\n",
    "                    if fdr < 0.05:\n",
    "                        expr.setdefault(gene_name.upper(),logF)\n",
    "\n",
    "expr_all = {}\n",
    "with open(\"expr_diff.brain_vs_heart_wt.edgeR.txt\", \"r\") as fo:\n",
    "        for l in fo.read().splitlines():\n",
    "            if l.split(\"\\t\")[0] != \"gene_id\":\n",
    "                gene_name = l.split(\"\\t\")[1]\n",
    "                fdr = float(l.split(\"\\t\")[-2])\n",
    "                logF = float(l.split(\"\\t\")[2])\n",
    "                if \",\" in gene_name:\n",
    "                    for test in gene_name.split(\",\"): \n",
    "                        expr_all.setdefault(test.upper(),logF) \n",
    "                #print gene_name, fdr\n",
    "                else:\n",
    "                    expr_all.setdefault(gene_name.upper(),logF)"
   ]
  },
  {
   "cell_type": "code",
   "execution_count": 3,
   "metadata": {
    "collapsed": true
   },
   "outputs": [],
   "source": [
    "expr_ko = {}\n",
    "\n",
    "with open(\"expr_diff.brain_vs_heart_ko.edgeR.txt\", \"r\") as fo:\n",
    "        for l in fo.read().splitlines():\n",
    "            if l.split(\"\\t\")[0] != \"gene_id\":\n",
    "                gene_name = l.split(\"\\t\")[1]\n",
    "                fdr = float(l.split(\"\\t\")[-2])\n",
    "                logF = float(l.split(\"\\t\")[2])\n",
    "                if \",\" in gene_name:\n",
    "                    for test in gene_name.split(\",\"): \n",
    "                        if fdr < 0.05:\n",
    "                            expr_ko.setdefault(test.upper(),logF) \n",
    "                #print gene_name, fdr\n",
    "                else:\n",
    "                    if fdr < 0.05:\n",
    "                        expr_ko.setdefault(gene_name.upper(),logF)\n",
    "\n",
    "expr_all_ko = {}\n",
    "with open(\"expr_diff.brain_vs_heart_ko.edgeR.txt\", \"r\") as fo:\n",
    "        for l in fo.read().splitlines():\n",
    "            if l.split(\"\\t\")[0] != \"gene_id\":\n",
    "                gene_name = l.split(\"\\t\")[1]\n",
    "                fdr = float(l.split(\"\\t\")[-2])\n",
    "                logF = float(l.split(\"\\t\")[2])\n",
    "                if \",\" in gene_name:\n",
    "                    for test in gene_name.split(\",\"): \n",
    "                        expr_all_ko.setdefault(test.upper(),logF) \n",
    "                #print gene_name, fdr\n",
    "                else:\n",
    "                    expr_all_ko.setdefault(gene_name.upper(),logF)"
   ]
  },
  {
   "cell_type": "code",
   "execution_count": 4,
   "metadata": {
    "collapsed": true
   },
   "outputs": [],
   "source": [
    "def find_genes_DE_inbed(bed_file, expr):\n",
    "    for b in bed_file:\n",
    "        if b.name.upper() in expr:\n",
    "            yield b.name\n",
    "            \n",
    "def find_DE_inbed(bed_file, expr):\n",
    "    for b in bed_file:\n",
    "        if b.name.upper() in expr:\n",
    "            yield expr[b.name.upper()]"
   ]
  },
  {
   "cell_type": "code",
   "execution_count": 5,
   "metadata": {
    "collapsed": true
   },
   "outputs": [],
   "source": [
    "### Number of DE genes for which we have enhancer annotation Brain/Heart"
   ]
  },
  {
   "cell_type": "code",
   "execution_count": 6,
   "metadata": {
    "collapsed": true
   },
   "outputs": [],
   "source": [
    "genes_enhancer_brain = np.genfromtxt(\"genes_in_enhancer_brain.txt\", dtype=\"str\")\n",
    "genes_enhancer_heart = np.genfromtxt(\"genes_in_enhancer_heart.txt\", dtype=\"str\")"
   ]
  },
  {
   "cell_type": "code",
   "execution_count": 7,
   "metadata": {
    "collapsed": true
   },
   "outputs": [],
   "source": [
    "de_enhancer_brain = set()\n",
    "for g in genes_enhancer_brain:\n",
    "    if g.upper() in expr:\n",
    "        de_enhancer_brain.add(expr[g.upper()])\n",
    "de_enhancer_heart = set()\n",
    "for g in genes_enhancer_heart:\n",
    "    if g.upper() in expr:\n",
    "        de_enhancer_heart.add(expr[g.upper()])\n",
    "\n",
    "# no matter the fdr \n",
    "        \n",
    "all_enhancer_brain = set()\n",
    "for g in genes_enhancer_brain:\n",
    "    if g.upper() in expr_all:\n",
    "        all_enhancer_brain.add(expr_all[g.upper()])\n",
    "all_enhancer_heart = set()\n",
    "for g in genes_enhancer_heart:\n",
    "    if g.upper() in expr_all:\n",
    "        all_enhancer_heart.add(expr_all[g.upper()])"
   ]
  },
  {
   "cell_type": "code",
   "execution_count": 8,
   "metadata": {
    "collapsed": true
   },
   "outputs": [],
   "source": [
    "u5fC_brain = pb.BedTool(\"5fC_unique_to_brain_WT.bed.gz\")\n",
    "u5fC_heart = pb.BedTool(\"5fC_unique_to_heart_WT.bed.gz\")\n",
    "nuc_cons_brain = pb.BedTool(\"ConsensusNucleosome_iNPS_Brain_WT_noMT.bed\")\n",
    "nuc_cons_heart = pb.BedTool(\"ConsensusNucleosome_iNPS_Heart_WT_noMT.bed\")"
   ]
  },
  {
   "cell_type": "code",
   "execution_count": 9,
   "metadata": {
    "collapsed": true
   },
   "outputs": [],
   "source": [
    "overlap=0.8\n",
    "u5fC_brain_nuc = u5fC_brain.intersect(nuc_cons_brain, F=overlap, r=False)\n",
    "u5fC_heart_nuc = u5fC_heart.intersect(nuc_cons_heart, F=overlap, r=False)"
   ]
  },
  {
   "cell_type": "code",
   "execution_count": 10,
   "metadata": {
    "collapsed": false
   },
   "outputs": [
    {
     "name": "stdout",
     "output_type": "stream",
     "text": [
      "Number of 5fC-nuc_cons Brain: 1898\n",
      "Number of 5fC-nuc_cons Heart: 393\n"
     ]
    }
   ],
   "source": [
    "print(\"Number of 5fC-nuc_cons Brain:\", len(u5fC_brain_nuc))\n",
    "print(\"Number of 5fC-nuc_cons Heart:\", len(u5fC_heart_nuc))"
   ]
  },
  {
   "cell_type": "markdown",
   "metadata": {},
   "source": [
    "## Intersect enhancers with 5fC-nucleosome"
   ]
  },
  {
   "cell_type": "code",
   "execution_count": 11,
   "metadata": {
    "collapsed": false
   },
   "outputs": [
    {
     "name": "stdout",
     "output_type": "stream",
     "text": [
      "Brain Ren Lab -- 154\n",
      "Heart Ren Lab -- 14\n"
     ]
    }
   ],
   "source": [
    "enhancer_brain = pb.BedTool(\"mm9_enhancer_brain_slop_1500.bed\")\n",
    "enhancer_heart = pb.BedTool(\"mm9_enhancer_heart_slop_1500.bed\")\n",
    "# BRAIN\n",
    "num_b_5fCNuc_de = []\n",
    "enhancers_unique_brain = enhancer_brain.intersect(u5fC_brain_nuc)\n",
    "print(\"Brain Ren Lab --\", len(set(find_genes_DE_inbed(enhancers_unique_brain, expr))))\n",
    "num_b_5fCNuc_de.append(len(set(find_genes_DE_inbed(enhancers_unique_brain, expr))))\n",
    "logfc_b_5fCNuc_de = set(find_DE_inbed(enhancers_unique_brain, expr))\n",
    "\n",
    "enhancers_not_unique_brain = enhancer_brain.intersect(u5fC_brain_nuc, v=True)\n",
    "logfc_b_not_5fCNuc_de = set(find_DE_inbed(enhancers_not_unique_brain, expr))\n",
    "\n",
    "# HEART\n",
    "num_h_5fCNuc_de = []\n",
    "enhancers_unique_heart = enhancer_heart.intersect(u5fC_heart_nuc)\n",
    "print(\"Heart Ren Lab --\", len(set(find_genes_DE_inbed(enhancers_unique_heart, expr))))\n",
    "num_h_5fCNuc_de.append(len(set(find_genes_DE_inbed(enhancers_unique_heart, expr))))\n",
    "logfc_h_5fCNuc_de = set(find_DE_inbed(enhancers_unique_heart, expr))\n",
    "\n",
    "enhancers_not_unique_heart = enhancer_heart.intersect(u5fC_heart_nuc, v=True)\n",
    "logfc_h_not_5fCNuc_de = set(find_DE_inbed(enhancers_not_unique_heart, expr))"
   ]
  },
  {
   "cell_type": "code",
   "execution_count": 12,
   "metadata": {
    "collapsed": false
   },
   "outputs": [],
   "source": [
    "h_wt = set(find_genes_DE_inbed(enhancers_unique_heart, expr))\n",
    "b_wt = set(find_genes_DE_inbed(enhancers_unique_brain, expr))\n",
    "union_h_b_wt = np.array(list(h_wt.union(b_wt)))\n",
    "col_wt = np.zeros((len(union_h_b_wt), 3))\n",
    "for ii, ff in enumerate(union_h_b_wt):\n",
    "    if ff in h_wt:\n",
    "        h1 = 1\n",
    "    else:\n",
    "        h1 = -1\n",
    "    if ff in b_wt:\n",
    "        b1 = 1\n",
    "    else:\n",
    "        b1 = -1\n",
    "    col_wt[ii, 0] = expr[str(ff).upper()]\n",
    "    col_wt[ii, 1] = b1\n",
    "    col_wt[ii, 2] = h1\n",
    "    \n",
    "\n"
   ]
  },
  {
   "cell_type": "code",
   "execution_count": null,
   "metadata": {
    "collapsed": false
   },
   "outputs": [],
   "source": []
  },
  {
   "cell_type": "code",
   "execution_count": 47,
   "metadata": {
    "collapsed": false
   },
   "outputs": [
    {
     "data": {
      "text/plain": [
       "<matplotlib.colorbar.Colorbar at 0x11de7c358>"
      ]
     },
     "execution_count": 47,
     "metadata": {},
     "output_type": "execute_result"
    },
    {
     "data": {
      "image/png": "[encoded data removed]",
      "text/plain": [
       "<matplotlib.figure.Figure at 0x119db6a58>"
      ]
     },
     "metadata": {},
     "output_type": "display_data"
    }
   ],
   "source": [
    "dd_wt = np.array(sorted(col_wt, key=lambda row: (row[1],row[2],row[0])))\n",
    "fig, ax = plt.subplots(figsize=(18, 2))\n",
    "_ = ax.imshow(dd_wt.T, cmap=plt.get_cmap(\"bwr\"), aspect='auto')\n",
    "fig.colorbar(_)"
   ]
  },
  {
   "cell_type": "code",
   "execution_count": 14,
   "metadata": {
    "collapsed": false
   },
   "outputs": [
    {
     "data": {
      "image/png": "[encoded data removed]",
      "text/plain": [
       "<matplotlib.figure.Figure at 0x119cc2dd8>"
      ]
     },
     "metadata": {},
     "output_type": "display_data"
    }
   ],
   "source": [
    "# Plot brain and heart\n",
    "medianprops = dict(color='black')\n",
    "meanpointprops = dict(marker='D', markeredgecolor='black',\n",
    "                      markerfacecolor='black')\n",
    "f, ax = plt.subplots(1, 1, sharex=True,\n",
    "                    figsize=(5,4), dpi=120)\n",
    "_ = ax.axhline(linestyle=\"--\")\n",
    "_ = ax.boxplot([list(de_enhancer_brain), \n",
    "                    list(logfc_b_5fCNuc_de), \n",
    "                    list(de_enhancer_heart),\n",
    "                    list(logfc_h_5fCNuc_de)], \n",
    "                   showmeans=True, notch=True, \n",
    "                medianprops=medianprops,\n",
    "               meanprops=meanpointprops,\n",
    "                patch_artist=True,\n",
    "                showfliers=False, \n",
    "                bootstrap=5000)\n",
    "colors = ['#2c7bb6', '#abd9e9',\"#d7191c\", \"#fdae61\"]\n",
    "for patch, color in zip(_['boxes'], colors):\n",
    "    patch.set_facecolor(color)\n",
    "names = [\"All brain\\nenhancers\", \"Brain \\n5fC-Nuc\", \"All heart\\nenhancers\", \"Heart\\n5fC-Nuc\"]\n",
    "ax.set_ylabel(\"Diff. expression\\n log2FC Brain / Heart\")\n",
    "ax.set_xticklabels(names)\n",
    "plt.savefig(\"boxplot_DE_tissues_WT_5fc.pdf\", bbox_inches = 'tight')"
   ]
  },
  {
   "cell_type": "code",
   "execution_count": 15,
   "metadata": {
    "collapsed": false
   },
   "outputs": [
    {
     "name": "stdout",
     "output_type": "stream",
     "text": [
      "pval brain 0.029345215307\n",
      "pval heart 0.300619800064\n"
     ]
    }
   ],
   "source": [
    "_, pval = stats.mannwhitneyu(list(de_enhancer_brain), list(logfc_b_5fCNuc_de) )\n",
    "print(\"pval brain\", pval)\n",
    "_, pval = stats.mannwhitneyu( list(de_enhancer_heart),\n",
    "                    list(logfc_h_5fCNuc_de))\n",
    "print(\"pval heart\", pval)"
   ]
  },
  {
   "cell_type": "code",
   "execution_count": 16,
   "metadata": {
    "collapsed": true
   },
   "outputs": [],
   "source": [
    "u5fC_brain_ko = pb.BedTool(\"5fC_unique_to_brain_KO.bed.gz\")\n",
    "u5fC_heart_ko = pb.BedTool(\"5fC_unique_to_heart_KO.bed.gz\")\n",
    "nuc_cons_brain_ko = pb.BedTool(\"ConsensusNucleosome_iNPS_Brain_KO_noMT.bed\")\n",
    "nuc_cons_heart_ko = pb.BedTool(\"ConsensusNucleosome_iNPS_Heart_KO_noMT.bed\")"
   ]
  },
  {
   "cell_type": "code",
   "execution_count": 17,
   "metadata": {
    "collapsed": true
   },
   "outputs": [],
   "source": [
    "overlap=0.8\n",
    "u5fC_brain_nuc = u5fC_brain_ko.intersect(nuc_cons_brain_ko, F=overlap, r=False)\n",
    "u5fC_heart_nuc = u5fC_heart_ko.intersect(nuc_cons_heart_ko, F=overlap, r=False)"
   ]
  },
  {
   "cell_type": "code",
   "execution_count": 18,
   "metadata": {
    "collapsed": false
   },
   "outputs": [
    {
     "name": "stdout",
     "output_type": "stream",
     "text": [
      "Number of 5fC-nuc_cons Brain: 21110\n",
      "Number of 5fC-nuc_cons Heart: 27911\n"
     ]
    }
   ],
   "source": [
    "print(\"Number of 5fC-nuc_cons Brain:\", len(u5fC_brain_nuc))\n",
    "print(\"Number of 5fC-nuc_cons Heart:\", len(u5fC_heart_nuc))"
   ]
  },
  {
   "cell_type": "code",
   "execution_count": 19,
   "metadata": {
    "collapsed": false
   },
   "outputs": [
    {
     "name": "stdout",
     "output_type": "stream",
     "text": [
      "Brain Ren Lab -- 422\n",
      "Heart Ren Lab -- 761\n"
     ]
    }
   ],
   "source": [
    "enhancer_brain = pb.BedTool(\"mm9_enhancer_brain_slop_1500.bed\")\n",
    "enhancer_heart = pb.BedTool(\"mm9_enhancer_heart_slop_1500.bed\")\n",
    "# BRAIN\n",
    "num_b_5fCNuc_de = []\n",
    "enhancers_unique_brain = enhancer_brain.intersect(u5fC_brain_nuc)\n",
    "print(\"Brain Ren Lab --\", len(set(find_genes_DE_inbed(enhancers_unique_brain, expr_ko))))\n",
    "num_b_5fCNuc_de.append(len(set(find_genes_DE_inbed(enhancers_unique_brain, expr_ko))))\n",
    "logfc_b_5fCNuc_de = set(find_DE_inbed(enhancers_unique_brain, expr_ko))\n",
    "\n",
    "enhancers_not_unique_brain = enhancer_brain.intersect(u5fC_brain_nuc, v=True)\n",
    "logfc_b_not_5fCNuc_de = set(find_DE_inbed(enhancers_not_unique_brain, expr_ko))\n",
    "\n",
    "# HEART\n",
    "num_h_5fCNuc_de = []\n",
    "enhancers_unique_heart = enhancer_heart.intersect(u5fC_heart_nuc)\n",
    "print(\"Heart Ren Lab --\", len(set(find_genes_DE_inbed(enhancers_unique_heart, expr_ko))))\n",
    "num_h_5fCNuc_de.append(len(set(find_genes_DE_inbed(enhancers_unique_heart, expr_ko))))\n",
    "logfc_h_5fCNuc_de = set(find_DE_inbed(enhancers_unique_heart, expr_ko))\n",
    "\n",
    "enhancers_not_unique_heart = enhancer_heart.intersect(u5fC_heart_nuc, v=True)\n",
    "logfc_h_not_5fCNuc_de = set(find_DE_inbed(enhancers_not_unique_heart, expr_ko))"
   ]
  },
  {
   "cell_type": "code",
   "execution_count": 20,
   "metadata": {
    "collapsed": false
   },
   "outputs": [
    {
     "data": {
      "image/png": "[encoded data removed]",
      "text/plain": [
       "<matplotlib.figure.Figure at 0x119cbb240>"
      ]
     },
     "metadata": {},
     "output_type": "display_data"
    }
   ],
   "source": [
    "# Plot brain and heart\n",
    "medianprops = dict(color='black')\n",
    "meanpointprops = dict(marker='D', markeredgecolor='black',\n",
    "                      markerfacecolor='black')\n",
    "f, ax = plt.subplots(1, 1, sharex=True,\n",
    "                    figsize=(5,4), dpi=120)\n",
    "_ = ax.axhline(linestyle=\"--\")\n",
    "_ = ax.boxplot([list(de_enhancer_brain), \n",
    "                    list(logfc_b_5fCNuc_de), \n",
    "                    list(de_enhancer_heart),\n",
    "                    list(logfc_h_5fCNuc_de)], \n",
    "                    meanprops=meanpointprops,\n",
    "                   showmeans=True, notch=True, \n",
    "                showfliers=False, medianprops=medianprops, patch_artist=True, \n",
    "                bootstrap=5000)\n",
    "colors = ['#2c7bb6', '#abd9e9',\"#d7191c\", \"#fdae61\"]\n",
    "for patch, color in zip(_['boxes'], colors):\n",
    "    patch.set_facecolor(color)\n",
    "names = [\"All brain\\nenhancers\", \"Brain \\n5fC-Nuc\", \"All heart\\nenhancers\", \"Heart\\n5fC-Nuc\"]\n",
    "ax.set_ylabel(\"Diff. expression\\n log2FC Brain / Heart\")\n",
    "ax.set_xticklabels(names)\n",
    "\n",
    "plt.savefig(\"boxplot_DE_tissues_KO_5fc.pdf\", bbox_inches = 'tight')"
   ]
  },
  {
   "cell_type": "code",
   "execution_count": 21,
   "metadata": {
    "collapsed": false
   },
   "outputs": [
    {
     "name": "stdout",
     "output_type": "stream",
     "text": [
      "pval brain 4.88546101589e-14\n",
      "pval heart 2.3276357888e-05\n"
     ]
    }
   ],
   "source": [
    "_, pval = stats.mannwhitneyu(list(de_enhancer_brain), list(logfc_b_5fCNuc_de) )\n",
    "print(\"pval brain\", pval)\n",
    "_, pval = stats.mannwhitneyu( list(de_enhancer_heart),\n",
    "                    list(logfc_h_5fCNuc_de))\n",
    "print(\"pval heart\", pval)"
   ]
  },
  {
   "cell_type": "code",
   "execution_count": 22,
   "metadata": {
    "collapsed": false
   },
   "outputs": [],
   "source": [
    "h_ko = set(find_genes_DE_inbed(enhancers_unique_heart, expr_ko))\n",
    "b_ko = set(find_genes_DE_inbed(enhancers_unique_brain, expr_ko))"
   ]
  },
  {
   "cell_type": "code",
   "execution_count": 23,
   "metadata": {
    "collapsed": false
   },
   "outputs": [],
   "source": [
    "u_ko = h_ko.union(b_ko)\n",
    "u_wt = h_wt.union(b_wt)\n",
    "big_union = u_wt.union(u_ko)"
   ]
  },
  {
   "cell_type": "code",
   "execution_count": 24,
   "metadata": {
    "collapsed": true
   },
   "outputs": [],
   "source": [
    "col_big = np.zeros((len(big_union), 6))\n",
    "\n",
    "for ii, ff in enumerate(big_union):\n",
    "    if ff in h_wt:\n",
    "        h1_wt = 1\n",
    "    else:\n",
    "        h1_wt = -1\n",
    "        \n",
    "    if ff in b_wt:\n",
    "        b1_wt = 1\n",
    "    else:\n",
    "        b1_wt = -1\n",
    "        \n",
    "    col_big[ii, 0] = expr_all[str(ff).upper()]\n",
    "    col_big[ii, 2] = b1_wt\n",
    "    col_big[ii, 3] = h1_wt\n",
    "    \n",
    "    if ff in h_ko:\n",
    "        h1_ko = 1\n",
    "    else:\n",
    "        h1_ko = -1\n",
    "    if ff in b_ko:\n",
    "        b1_ko = 1\n",
    "    else:\n",
    "        b1_ko = -1\n",
    "        \n",
    "    col_big[ii, 1] = expr_all_ko[str(ff).upper()]\n",
    "    col_big[ii, 4] = b1_ko\n",
    "    col_big[ii, 5] = h1_ko\n",
    "\n"
   ]
  },
  {
   "cell_type": "code",
   "execution_count": 55,
   "metadata": {
    "collapsed": false
   },
   "outputs": [
    {
     "data": {
      "image/png": "[encoded data removed]",
      "text/plain": [
       "<matplotlib.figure.Figure at 0x11e126710>"
      ]
     },
     "metadata": {},
     "output_type": "display_data"
    }
   ],
   "source": [
    "dd = np.array(sorted(col_big, reverse=True, key=lambda row: (row[2], row[3], row[4], row[5], row[0], row[1])))\n",
    "\n",
    "fig, ax = plt.subplots(2,1, figsize=(28, 6), sharex=True)\n",
    "#fig.canvas.draw()\n",
    "_1 = ax[0].imshow((dd.T)[:2,:], \n",
    "                  cmap=plt.get_cmap(\"viridis\"), \n",
    "                  origin='lower', \n",
    "                  interpolation='nearest', \n",
    "                  aspect=\"auto\")\n",
    "#labels = [item.get_text() for item in ax[0].get_yticklabels()]\n",
    "#print(labels)\n",
    "_2 = ax[1].imshow((dd.T)[2:, :], cmap=plt.get_cmap(\"bwr\"), \n",
    "                  origin='lower', \n",
    "                  interpolation='nearest', \n",
    "                  aspect=\"auto\")\n",
    "labels = [item.get_text() for item in ax[1].get_yticklabels()]\n",
    "\n",
    "names_y=[\"DE_WT\",\"DE_KO\"]\n",
    "_ = ax[0].set_yticklabels(names_y)\n",
    "#labels = [item.get_text() for item in ax[0].get_yticklabels()]\n",
    "\n",
    "#labels = [item.get_text() for item in ax[1].get_yticklabels()]\n",
    "\n",
    "labels=[\"\",\"B_WT\",\"H_WT\",\"B_KO\", \"H_KO\"]\n",
    "\n",
    "ax[1].set_yticklabels(labels)\n",
    "fig.subplots_adjust(hspace=0)\n",
    "fig.savefig(\"test.pdf\",bbox_inches = 'tight')"
   ]
  },
  {
   "cell_type": "code",
   "execution_count": 46,
   "metadata": {
    "collapsed": false
   },
   "outputs": [
    {
     "name": "stdout",
     "output_type": "stream",
     "text": [
      "761\n"
     ]
    }
   ],
   "source": [
    "c= 0\n",
    "for xxx in col_big:\n",
    "    if xxx[5] == 1:\n",
    "        c+=1\n",
    "print(c)"
   ]
  },
  {
   "cell_type": "code",
   "execution_count": 27,
   "metadata": {
    "collapsed": false
   },
   "outputs": [
    {
     "data": {
      "text/plain": [
       "<matplotlib.image.AxesImage at 0x119d5d748>"
      ]
     },
     "execution_count": 27,
     "metadata": {},
     "output_type": "execute_result"
    }
   ],
   "source": [
    "_1"
   ]
  },
  {
   "cell_type": "code",
   "execution_count": 57,
   "metadata": {
    "collapsed": false
   },
   "outputs": [
    {
     "data": {
      "text/plain": [
       "-0.795654204967931"
      ]
     },
     "execution_count": 57,
     "metadata": {},
     "output_type": "execute_result"
    }
   ],
   "source": [
    "expr_all[\"VEGFA\"]"
   ]
  },
  {
   "cell_type": "code",
   "execution_count": 58,
   "metadata": {
    "collapsed": false
   },
   "outputs": [
    {
     "data": {
      "text/plain": [
       "-0.548396229396626"
      ]
     },
     "execution_count": 58,
     "metadata": {},
     "output_type": "execute_result"
    }
   ],
   "source": [
    "expr_all_ko[\"VEGFA\"]"
   ]
  },
  {
   "cell_type": "code",
   "execution_count": null,
   "metadata": {
    "collapsed": true
   },
   "outputs": [],
   "source": []
  }
 ],
 "metadata": {
  "kernelspec": {
   "display_name": "Python 3",
   "language": "python",
   "name": "python3"
  },
  "language_info": {
   "codemirror_mode": {
    "name": "ipython",
    "version": 3
   },
   "file_extension": ".py",
   "mimetype": "text/x-python",
   "name": "python",
   "nbconvert_exporter": "python",
   "pygments_lexer": "ipython3",
   "version": "3.6.1"
  }
 },
 "nbformat": 4,
 "nbformat_minor": 2
}
