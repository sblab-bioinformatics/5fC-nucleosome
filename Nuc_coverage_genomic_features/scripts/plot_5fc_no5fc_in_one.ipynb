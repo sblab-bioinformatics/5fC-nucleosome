{
 "cells": [
  {
   "cell_type": "code",
   "execution_count": 1,
   "metadata": {
    "collapsed": true
   },
   "outputs": [],
   "source": [
    "%matplotlib inline\n",
    "import pandas as pd\n",
    "import numpy as np\n",
    "import matplotlib\n",
    "import matplotlib.pyplot as plt\n",
    "font = {'family' : 'sans-serif',\n",
    "        'weight' : 'light',\n",
    "        'size'   : '6'}\n",
    "\n",
    "plt.rc('font', **font)"
   ]
  },
  {
   "cell_type": "code",
   "execution_count": 7,
   "metadata": {
    "collapsed": true
   },
   "outputs": [],
   "source": [
    "def cm2inch(*tupl):\n",
    "    inch = 2.54\n",
    "    if isinstance(tupl[0], tuple):\n",
    "        return tuple(i/inch for i in tupl[0])\n",
    "    else:\n",
    "        return tuple(i/inch for i in tupl)"
   ]
  },
  {
   "cell_type": "code",
   "execution_count": 2,
   "metadata": {
    "collapsed": true
   },
   "outputs": [],
   "source": [
    "data = pd.read_table(\"CpGi_WT_brain_referencepoint.dat\")"
   ]
  },
  {
   "cell_type": "code",
   "execution_count": 6,
   "metadata": {
    "collapsed": false
   },
   "outputs": [],
   "source": [
    "df = data.T \n",
    "df.columns = df.iloc[0].values\n",
    "min1kb = df.index.get_loc(\"-1.0Kb\")\n",
    "plus1kb = df.index.get_loc(\"1.0Kb\")\n",
    "center = df.index.get_loc(\"TSS\")"
   ]
  },
  {
   "cell_type": "code",
   "execution_count": 15,
   "metadata": {
    "collapsed": true
   },
   "outputs": [],
   "source": [
    "def do_plot(df, min1kb, plus1kb, center):\n",
    "    x_ax = np.arange(0, len(df)-2)\n",
    "    x_tick_loc = [min1kb-2, center-2, plus1kb-2]\n",
    "    y_ax_label = \"MNase (RPKM)\"\n",
    "    x_tick_labels = [\"-1.0Kb\", \"Center\", \"1.0Kb\"]\n",
    "    yy =[]\n",
    "    yes5fc = df.iloc[2:, 1::2]\n",
    "    no5fc = df.iloc[2:, 2::2]\n",
    "    \n",
    "    yy.append(yes5fc[[\"WT_A1\"]].sum(axis=1))\n",
    "    yy.append(no5fc[[\"WT_A1\"]].sum(axis=1))\n",
    "    legend = [\"5fC\", \"no5fC\"]\n",
    "    num_plots = 1\n",
    "    f, ax = plt.subplots(num_plots, 1, figsize=(cm2inch(5.3,3.5)), dpi=120)\n",
    "    ax.set_xticks(x_tick_loc)\n",
    "    ax.set_xticklabels(x_tick_labels)\n",
    "    ax.set_ylabel(y_ax_label)\n",
    "    #colors = [\"red\", \"blue\"]\n",
    "    for y, l in zip(yy, legend):\n",
    "        ax.plot(x_ax, y, linewidth=1.2, label=l)\n",
    "    legend = ax.legend(loc='upper left', frameon=False)\n",
    "    ax.set_ylabel(y_ax_label)\n",
    "    plt.tight_layout()\n",
    "    plt.savefig(\"5fC_vs_no5fC_CpGi.pdf\")"
   ]
  },
  {
   "cell_type": "code",
   "execution_count": 16,
   "metadata": {
    "collapsed": false
   },
   "outputs": [
    {
     "data": {
      "image/png": "[encoded data removed]",
      "text/plain": [
       "<matplotlib.figure.Figure at 0x115c21150>"
      ]
     },
     "metadata": {},
     "output_type": "display_data"
    }
   ],
   "source": [
    "do_plot(df, min1kb, plus1kb, center)"
   ]
  },
  {
   "cell_type": "code",
   "execution_count": null,
   "metadata": {
    "collapsed": true
   },
   "outputs": [],
   "source": []
  }
 ],
 "metadata": {
  "kernelspec": {
   "display_name": "Python 2",
   "language": "python",
   "name": "python2"
  },
  "language_info": {
   "codemirror_mode": {
    "name": "ipython",
    "version": 2
   },
   "file_extension": ".py",
   "mimetype": "text/x-python",
   "name": "python",
   "nbconvert_exporter": "python",
   "pygments_lexer": "ipython2",
   "version": "2.7.13"
  }
 },
 "nbformat": 4,
 "nbformat_minor": 2
}
