{
 "cells": [
  {
   "cell_type": "code",
   "execution_count": 1,
   "metadata": {
    "collapsed": true
   },
   "outputs": [],
   "source": [
    "%matplotlib inline\n",
    "import matplotlib.pyplot as plt\n",
    "import pybedtools as pb\n",
    "import numpy as np\n",
    "from scipy import stats\n",
    "import pybedtools as pb\n",
    "font = {'family' : 'sans-serif',\n",
    "        'weight' : 'light',\n",
    "        'size'   : '12'}\n",
    "\n",
    "plt.rc('font', **font)"
   ]
  },
  {
   "cell_type": "markdown",
   "metadata": {},
   "source": [
    "# DE genes related to tissue specific 5fC-nucleosomes\n",
    "\n",
    "\n",
    "Compute the distribution of logFC from RNA-seq derived differential expression (DE) for genes associated with tissue specific enhancers, and a subset of those that have enhancers overlapping with tissue-unique 5fC-containing nucleosomes.\n",
    "\n",
    "The list of enhancer location and their associtate genes was taken from Suppl. Table 7 in  doi:10.1038/nature11243, also available from Mouse Encode Project at Ren Lab (http://chromosome.sdsc.edu/mouse/download.html).  \n",
    "Each enhancer site was considered to span +/-1.5 Kb around the center of the predicted enhancer. These files have been named `mm9_enhancer_brain_slop_1500.bed` and `mm9_enhancer_heart_slop_1500.bed`.\n",
    "\n",
    "This notebook requires the following datasets, \n",
    "\n",
    "- `expr_diff.brain_vs_heart_wt.edgeR.txt` and `expr_diff.brain_vs_heart_wt.edgeR.txt`, which can be obtained following \n",
    "the protocol described [here](https://github.com/sblab-bioinformatics/5fC_nucleosome/tree/master/RNAseq).\n",
    "- `5fC_unique_to_brain_WT.bed.gz`, `5fC_unique_to_brain_KO.bed.gz`, `5fC_unique_to_heart_WT.bed.gz`, `5fC_unique_to_brain_WT.bed.gz`, `5fC_unique_to_heart_KO.bed.gz`, which can be obtained following the protocols described [here](https://github.com/sblab-bioinformatics/5fC_nucleosome/tree/master/5fC_sites_in_heart_brain_WT_and_TDG_KO).\n",
    "- `ConsensusNucleosome_iNPS_Brain_WT_noMT.bed`, `ConsensusNucleosome_iNPS_Heart_WT_noMT.bed`, `ConsensusNucleosome_iNPS_Brain_KO_noMT.bed`, `ConsensusNucleosome_iNPS_Heart_KO_noMT.bed`, which can be obtained following the protocols described [here](https://github.com/sblab-bioinformatics/5fC_nucleosome/tree/master/MNase)."
   ]
  },
  {
   "cell_type": "markdown",
   "metadata": {},
   "source": [
    "---"
   ]
  },
  {
   "cell_type": "markdown",
   "metadata": {},
   "source": [
    "Initial preparations, such as creating a dictionary of DE genes and their associated logFC, and some handy \n",
    "functions for later usage.\n",
    "\n",
    "\n",
    "### Prepare a dictionary of genes with their logFC from our DE analysis\n",
    "\n",
    "We create one with FDR<0.05 filtered genes and one containing all of them\n",
    "\n",
    "First for the WT"
   ]
  },
  {
   "cell_type": "code",
   "execution_count": 2,
   "metadata": {
    "collapsed": true
   },
   "outputs": [],
   "source": [
    "expr = {}\n",
    "\n",
    "with open(\"expr_diff.brain_vs_heart_wt.edgeR.txt\", \"r\") as fo:\n",
    "        for l in fo.read().splitlines():\n",
    "            if l.split(\"\\t\")[0] != \"gene_id\":\n",
    "                gene_name = l.split(\"\\t\")[1]\n",
    "                fdr = float(l.split(\"\\t\")[-2])\n",
    "                logF = float(l.split(\"\\t\")[2])\n",
    "                if \",\" in gene_name:\n",
    "                    for test in gene_name.split(\",\"): \n",
    "                        if fdr < 0.05:\n",
    "                            expr.setdefault(test.upper(),logF) \n",
    "                else:\n",
    "                    if fdr < 0.05:\n",
    "                        expr.setdefault(gene_name.upper(),logF)\n",
    "\n",
    "expr_all = {}\n",
    "with open(\"expr_diff.brain_vs_heart_wt.edgeR.txt\", \"r\") as fo:\n",
    "        for l in fo.read().splitlines():\n",
    "            if l.split(\"\\t\")[0] != \"gene_id\":\n",
    "                gene_name = l.split(\"\\t\")[1]\n",
    "                fdr = float(l.split(\"\\t\")[-2])\n",
    "                logF = float(l.split(\"\\t\")[2])\n",
    "                if \",\" in gene_name:\n",
    "                    for test in gene_name.split(\",\"): \n",
    "                        expr_all.setdefault(test.upper(),logF) \n",
    "                else:\n",
    "                    expr_all.setdefault(gene_name.upper(),logF)"
   ]
  },
  {
   "cell_type": "markdown",
   "metadata": {},
   "source": [
    "And now for the TDG-KO"
   ]
  },
  {
   "cell_type": "code",
   "execution_count": 3,
   "metadata": {
    "collapsed": true
   },
   "outputs": [],
   "source": [
    "expr_ko = {}\n",
    "\n",
    "with open(\"expr_diff.brain_vs_heart_ko.edgeR.txt\", \"r\") as fo:\n",
    "        for l in fo.read().splitlines():\n",
    "            if l.split(\"\\t\")[0] != \"gene_id\":\n",
    "                gene_name = l.split(\"\\t\")[1]\n",
    "                fdr = float(l.split(\"\\t\")[-2])\n",
    "                logF = float(l.split(\"\\t\")[2])\n",
    "                if \",\" in gene_name:\n",
    "                    for test in gene_name.split(\",\"): \n",
    "                        if fdr < 0.05:\n",
    "                            expr_ko.setdefault(test.upper(),logF) \n",
    "                else:\n",
    "                    if fdr < 0.05:\n",
    "                        expr_ko.setdefault(gene_name.upper(),logF)\n",
    "\n",
    "expr_all_ko = {}\n",
    "with open(\"expr_diff.brain_vs_heart_ko.edgeR.txt\", \"r\") as fo:\n",
    "        for l in fo.read().splitlines():\n",
    "            if l.split(\"\\t\")[0] != \"gene_id\":\n",
    "                gene_name = l.split(\"\\t\")[1]\n",
    "                fdr = float(l.split(\"\\t\")[-2])\n",
    "                logF = float(l.split(\"\\t\")[2])\n",
    "                if \",\" in gene_name:\n",
    "                    for test in gene_name.split(\",\"): \n",
    "                        expr_all_ko.setdefault(test.upper(),logF) \n",
    "                else:\n",
    "                    expr_all_ko.setdefault(gene_name.upper(),logF)"
   ]
  },
  {
   "cell_type": "code",
   "execution_count": 4,
   "metadata": {
    "collapsed": true
   },
   "outputs": [],
   "source": [
    "# Handy functions to generate a list of genes associated with a given \n",
    "# bed file (bed_file) that are in a dictionary (expr)\n",
    "def find_genes_DE_inbed(bed_file, expr):\n",
    "    for b in bed_file:\n",
    "        if b.name.upper() in expr:\n",
    "            yield b.name\n",
    "# Return the logFC of genes associated with a given genomic interval\n",
    "# from a dict \n",
    "def find_DE_inbed(bed_file, expr):\n",
    "    for b in bed_file:\n",
    "        if b.name.upper() in expr:\n",
    "            yield expr[b.name.upper()]"
   ]
  },
  {
   "cell_type": "markdown",
   "metadata": {
    "collapsed": true
   },
   "source": [
    "### Number of DE genes for which we have enhancer annotation Brain/Heart"
   ]
  },
  {
   "cell_type": "code",
   "execution_count": 5,
   "metadata": {
    "collapsed": true
   },
   "outputs": [],
   "source": [
    "## These one-column text file simply contain unique gene names found in the Ren Lab list of brain/heart enhancers\n",
    "genes_enhancer_brain = np.genfromtxt(\"genes_in_enhancer_brain.txt\", dtype=\"str\")\n",
    "genes_enhancer_heart = np.genfromtxt(\"genes_in_enhancer_heart.txt\", dtype=\"str\")"
   ]
  },
  {
   "cell_type": "markdown",
   "metadata": {},
   "source": [
    "Create a list containing the logFC for all genes present in the Ren Lab list of \n",
    "enhancers, both for brain and heart "
   ]
  },
  {
   "cell_type": "code",
   "execution_count": 19,
   "metadata": {
    "collapsed": true
   },
   "outputs": [],
   "source": [
    "de_enhancer_brain = set()\n",
    "for g in genes_enhancer_brain:\n",
    "    if g.upper() in expr:\n",
    "        de_enhancer_brain.add(expr[g.upper()])\n",
    "de_enhancer_heart = set()\n",
    "for g in genes_enhancer_heart:\n",
    "    if g.upper() in expr:\n",
    "        de_enhancer_heart.add(expr[g.upper()])\n",
    "\n",
    "# no matter the fdr \n",
    "        \n",
    "all_enhancer_brain = set()\n",
    "for g in genes_enhancer_brain:\n",
    "    if g.upper() in expr_all:\n",
    "        all_enhancer_brain.add(expr_all[g.upper()])\n",
    "all_enhancer_heart = set()\n",
    "for g in genes_enhancer_heart:\n",
    "    if g.upper() in expr_all:\n",
    "        all_enhancer_heart.add(expr_all[g.upper()])"
   ]
  },
  {
   "cell_type": "markdown",
   "metadata": {},
   "source": [
    "Now let's find the logFC of genes associated with enhancers which have tissue-unique 5fC-associtated nucleosomes\n",
    "\n",
    "## Start with TDG WT "
   ]
  },
  {
   "cell_type": "markdown",
   "metadata": {},
   "source": [
    "### Find 5fC-associated nucleosomes "
   ]
  },
  {
   "cell_type": "code",
   "execution_count": 7,
   "metadata": {
    "collapsed": true
   },
   "outputs": [],
   "source": [
    "u5fC_brain = pb.BedTool(\"5fC_unique_to_brain_WT.bed.gz\")\n",
    "u5fC_heart = pb.BedTool(\"5fC_unique_to_heart_WT.bed.gz\")\n",
    "nuc_cons_brain = pb.BedTool(\"ConsensusNucleosome_iNPS_Brain_WT_noMT.bed\")\n",
    "nuc_cons_heart = pb.BedTool(\"ConsensusNucleosome_iNPS_Heart_WT_noMT.bed\")"
   ]
  },
  {
   "cell_type": "code",
   "execution_count": 8,
   "metadata": {
    "collapsed": true
   },
   "outputs": [],
   "source": [
    "# we set the overlap to 80% of the nucleosome region\n",
    "overlap=0.8\n",
    "u5fC_brain_nuc = u5fC_brain.intersect(nuc_cons_brain, F=overlap, r=False)\n",
    "u5fC_heart_nuc = u5fC_heart.intersect(nuc_cons_heart, F=overlap, r=False)"
   ]
  },
  {
   "cell_type": "code",
   "execution_count": 9,
   "metadata": {
    "collapsed": false
   },
   "outputs": [
    {
     "name": "stdout",
     "output_type": "stream",
     "text": [
      "Number of 5fC-nuc_cons Brain: 1898\n",
      "Number of 5fC-nuc_cons Heart: 393\n"
     ]
    }
   ],
   "source": [
    "print(\"Number of 5fC-nuc_cons Brain:\", len(u5fC_brain_nuc))\n",
    "print(\"Number of 5fC-nuc_cons Heart:\", len(u5fC_heart_nuc))"
   ]
  },
  {
   "cell_type": "markdown",
   "metadata": {},
   "source": [
    "### Intersect enhancers with 5fC-nucleosome"
   ]
  },
  {
   "cell_type": "code",
   "execution_count": 10,
   "metadata": {
    "collapsed": false
   },
   "outputs": [
    {
     "name": "stdout",
     "output_type": "stream",
     "text": [
      "Brain WT DE 5fC-Nuc from Ren Lab enhancers -- 154\n",
      "Heart WT DE 5fC-Nuc from Ren Lab enhancers -- 14\n"
     ]
    }
   ],
   "source": [
    "# Enhancers from Ren Lab mm9 brain and heart\n",
    "enhancer_brain = pb.BedTool(\"mm9_enhancer_brain_slop_1500.bed\")\n",
    "enhancer_heart = pb.BedTool(\"mm9_enhancer_heart_slop_1500.bed\")\n",
    "# BRAIN\n",
    "num_b_5fCNuc_de = []\n",
    "enhancers_unique_brain = enhancer_brain.intersect(u5fC_brain_nuc)\n",
    "print(\"Brain WT DE 5fC-Nuc from Ren Lab enhancers --\", len(set(find_genes_DE_inbed(enhancers_unique_brain, expr))))\n",
    "num_b_5fCNuc_de.append(len(set(find_genes_DE_inbed(enhancers_unique_brain, expr))))\n",
    "logfc_b_5fCNuc_de = set(find_DE_inbed(enhancers_unique_brain, expr))\n",
    "\n",
    "enhancers_not_unique_brain = enhancer_brain.intersect(u5fC_brain_nuc, v=True)\n",
    "logfc_b_not_5fCNuc_de = set(find_DE_inbed(enhancers_not_unique_brain, expr))\n",
    "\n",
    "# HEART\n",
    "num_h_5fCNuc_de = []\n",
    "enhancers_unique_heart = enhancer_heart.intersect(u5fC_heart_nuc)\n",
    "print(\"Heart WT DE 5fC-Nuc from Ren Lab enhancers --\", len(set(find_genes_DE_inbed(enhancers_unique_heart, expr))))\n",
    "num_h_5fCNuc_de.append(len(set(find_genes_DE_inbed(enhancers_unique_heart, expr))))\n",
    "logfc_h_5fCNuc_de = set(find_DE_inbed(enhancers_unique_heart, expr))\n",
    "\n",
    "enhancers_not_unique_heart = enhancer_heart.intersect(u5fC_heart_nuc, v=True)\n",
    "logfc_h_not_5fCNuc_de = set(find_DE_inbed(enhancers_not_unique_heart, expr))"
   ]
  },
  {
   "cell_type": "code",
   "execution_count": 11,
   "metadata": {
    "collapsed": false
   },
   "outputs": [
    {
     "data": {
      "image/png": "[encoded data removed]",
      "text/plain": [
       "<matplotlib.figure.Figure at 0x10bca8ef0>"
      ]
     },
     "metadata": {},
     "output_type": "display_data"
    }
   ],
   "source": [
    "# Plot brain and heart\n",
    "medianprops = dict(color='black')\n",
    "meanpointprops = dict(marker='D', markeredgecolor='black',\n",
    "                      markerfacecolor='black')\n",
    "f, ax = plt.subplots(1, 1, sharex=True,\n",
    "                    figsize=(5,4), dpi=120)\n",
    "_ = ax.axhline(linestyle=\"--\")\n",
    "_ = ax.boxplot([list(de_enhancer_brain), \n",
    "                    list(logfc_b_5fCNuc_de), \n",
    "                    list(de_enhancer_heart),\n",
    "                    list(logfc_h_5fCNuc_de)], \n",
    "                   showmeans=True, notch=True, \n",
    "                medianprops=medianprops,\n",
    "               meanprops=meanpointprops,\n",
    "                patch_artist=True,\n",
    "                showfliers=False, \n",
    "                bootstrap=5000)\n",
    "colors = ['#2c7bb6', '#abd9e9',\"#d7191c\", \"#fdae61\"]\n",
    "for patch, color in zip(_['boxes'], colors):\n",
    "    patch.set_facecolor(color)\n",
    "names = [\"All brain\\nenhancers\", \"Brain \\n5fC-Nuc\", \"All heart\\nenhancers\", \"Heart\\n5fC-Nuc\"]\n",
    "ax.set_ylabel(\"Diff. expression\\n log2FC Brain / Heart in WT\")\n",
    "ax.set_xticklabels(names)\n",
    "plt.savefig(\"boxplot_DE_tissues_WT_5fc.pdf\", bbox_inches = 'tight')"
   ]
  },
  {
   "cell_type": "markdown",
   "metadata": {},
   "source": [
    "Compute the p-values between pairs of tissue specific logFC, containing all the enhancers and only\n",
    "the subset associated with tissue-unique 5fC-containing nucleosomes (for WT)"
   ]
  },
  {
   "cell_type": "code",
   "execution_count": 12,
   "metadata": {
    "collapsed": false
   },
   "outputs": [
    {
     "name": "stdout",
     "output_type": "stream",
     "text": [
      "pval WT DE genes related to all brain enhancers vs 5fC-Nuc associated enhancers 0.029345215307\n",
      "pval WT DE genes related to all heart enhancers vs 5fC-Nuc associated enhancers 0.300619800064\n"
     ]
    }
   ],
   "source": [
    "_, pval = stats.mannwhitneyu(list(de_enhancer_brain), list(logfc_b_5fCNuc_de) )\n",
    "print(\"pval WT DE genes related to all brain enhancers vs 5fC-Nuc associated enhancers\", pval)\n",
    "_, pval = stats.mannwhitneyu( list(de_enhancer_heart),\n",
    "                    list(logfc_h_5fCNuc_de))\n",
    "print(\"pval WT DE genes related to all heart enhancers vs 5fC-Nuc associated enhancers\", pval)"
   ]
  },
  {
   "cell_type": "markdown",
   "metadata": {},
   "source": [
    "---\n",
    "## Now repeat the analysis for TDG KO"
   ]
  },
  {
   "cell_type": "markdown",
   "metadata": {},
   "source": [
    "### Find 5fC-associated nucleosomes "
   ]
  },
  {
   "cell_type": "code",
   "execution_count": 13,
   "metadata": {
    "collapsed": true
   },
   "outputs": [],
   "source": [
    "u5fC_brain_ko = pb.BedTool(\"5fC_unique_to_brain_KO.bed.gz\")\n",
    "u5fC_heart_ko = pb.BedTool(\"5fC_unique_to_heart_KO.bed.gz\")\n",
    "nuc_cons_brain_ko = pb.BedTool(\"ConsensusNucleosome_iNPS_Brain_KO_noMT.bed\")\n",
    "nuc_cons_heart_ko = pb.BedTool(\"ConsensusNucleosome_iNPS_Heart_KO_noMT.bed\")"
   ]
  },
  {
   "cell_type": "code",
   "execution_count": 14,
   "metadata": {
    "collapsed": true
   },
   "outputs": [],
   "source": [
    "overlap=0.8\n",
    "u5fC_brain_nuc = u5fC_brain_ko.intersect(nuc_cons_brain_ko, F=overlap, r=False)\n",
    "u5fC_heart_nuc = u5fC_heart_ko.intersect(nuc_cons_heart_ko, F=overlap, r=False)"
   ]
  },
  {
   "cell_type": "code",
   "execution_count": 15,
   "metadata": {
    "collapsed": false
   },
   "outputs": [
    {
     "name": "stdout",
     "output_type": "stream",
     "text": [
      "Number of 5fC-nuc_cons Brain: 21110\n",
      "Number of 5fC-nuc_cons Heart: 27911\n"
     ]
    }
   ],
   "source": [
    "print(\"Number of 5fC-nuc_cons Brain:\", len(u5fC_brain_nuc))\n",
    "print(\"Number of 5fC-nuc_cons Heart:\", len(u5fC_heart_nuc))"
   ]
  },
  {
   "cell_type": "markdown",
   "metadata": {},
   "source": [
    "### Interesect with 5fC-Nucleosomes"
   ]
  },
  {
   "cell_type": "code",
   "execution_count": 16,
   "metadata": {
    "collapsed": false
   },
   "outputs": [
    {
     "name": "stdout",
     "output_type": "stream",
     "text": [
      "Brain TDG-KO DE 5fC-Nuc from Ren Lab enhancers -- 422\n",
      "Heart TDG-KO DE 5fC-Nuc from Ren Lab enhancers -- 761\n"
     ]
    }
   ],
   "source": [
    "# Enhancers from Ren Lab mm9 brain and heart\n",
    "enhancer_brain = pb.BedTool(\"mm9_enhancer_brain_slop_1500.bed\")\n",
    "enhancer_heart = pb.BedTool(\"mm9_enhancer_heart_slop_1500.bed\")\n",
    "# BRAIN\n",
    "num_b_5fCNuc_de = []\n",
    "enhancers_unique_brain = enhancer_brain.intersect(u5fC_brain_nuc)\n",
    "print(\"Brain TDG-KO DE 5fC-Nuc from Ren Lab enhancers --\", len(set(find_genes_DE_inbed(enhancers_unique_brain, expr_ko))))\n",
    "num_b_5fCNuc_de.append(len(set(find_genes_DE_inbed(enhancers_unique_brain, expr_ko))))\n",
    "logfc_b_5fCNuc_de = set(find_DE_inbed(enhancers_unique_brain, expr_ko))\n",
    "\n",
    "enhancers_not_unique_brain = enhancer_brain.intersect(u5fC_brain_nuc, v=True)\n",
    "logfc_b_not_5fCNuc_de = set(find_DE_inbed(enhancers_not_unique_brain, expr_ko))\n",
    "\n",
    "# HEART\n",
    "num_h_5fCNuc_de = []\n",
    "enhancers_unique_heart = enhancer_heart.intersect(u5fC_heart_nuc)\n",
    "print(\"Heart TDG-KO DE 5fC-Nuc from Ren Lab enhancers --\", len(set(find_genes_DE_inbed(enhancers_unique_heart, expr_ko))))\n",
    "num_h_5fCNuc_de.append(len(set(find_genes_DE_inbed(enhancers_unique_heart, expr_ko))))\n",
    "logfc_h_5fCNuc_de = set(find_DE_inbed(enhancers_unique_heart, expr_ko))\n",
    "\n",
    "enhancers_not_unique_heart = enhancer_heart.intersect(u5fC_heart_nuc, v=True)\n",
    "logfc_h_not_5fCNuc_de = set(find_DE_inbed(enhancers_not_unique_heart, expr_ko))"
   ]
  },
  {
   "cell_type": "code",
   "execution_count": 17,
   "metadata": {
    "collapsed": false
   },
   "outputs": [
    {
     "data": {
      "image/png": "[encoded data removed]",
      "text/plain": [
       "<matplotlib.figure.Figure at 0x10b981550>"
      ]
     },
     "metadata": {},
     "output_type": "display_data"
    }
   ],
   "source": [
    "# Plot brain and heart\n",
    "medianprops = dict(color='black')\n",
    "meanpointprops = dict(marker='D', markeredgecolor='black',\n",
    "                      markerfacecolor='black')\n",
    "f, ax = plt.subplots(1, 1, sharex=True,\n",
    "                    figsize=(5,4), dpi=120)\n",
    "_ = ax.axhline(linestyle=\"--\")\n",
    "_ = ax.boxplot([list(de_enhancer_brain), \n",
    "                    list(logfc_b_5fCNuc_de), \n",
    "                    list(de_enhancer_heart),\n",
    "                    list(logfc_h_5fCNuc_de)], \n",
    "                    meanprops=meanpointprops,\n",
    "                   showmeans=True, notch=True, \n",
    "                showfliers=False, medianprops=medianprops, patch_artist=True, \n",
    "                bootstrap=5000)\n",
    "colors = ['#2c7bb6', '#abd9e9',\"#d7191c\", \"#fdae61\"]\n",
    "for patch, color in zip(_['boxes'], colors):\n",
    "    patch.set_facecolor(color)\n",
    "names = [\"All brain\\nenhancers\", \"Brain \\n5fC-Nuc\", \"All heart\\nenhancers\", \"Heart\\n5fC-Nuc\"]\n",
    "ax.set_ylabel(\"Diff. expression\\n log2FC Brain / Heart in TDG KO\")\n",
    "ax.set_xticklabels(names)\n",
    "\n",
    "plt.savefig(\"boxplot_DE_tissues_KO_5fc.pdf\", bbox_inches = 'tight')"
   ]
  },
  {
   "cell_type": "markdown",
   "metadata": {},
   "source": [
    "Compute the p-values between pairs of tissue specific logFC, containing all the enhancers and only\n",
    "the subset associated with tissue-unique 5fC-containing nucleosomes (for TDG-KO)"
   ]
  },
  {
   "cell_type": "code",
   "execution_count": 18,
   "metadata": {
    "collapsed": false
   },
   "outputs": [
    {
     "name": "stdout",
     "output_type": "stream",
     "text": [
      "pval TDG-KO DE genes related to all brain enhancers vs 5fC-Nuc associated enhancers 4.88546101589e-14\n",
      "pval TDG-KO DE genes related to all heart enhancers vs 5fC-Nuc associated enhancers 2.3276357888e-05\n"
     ]
    }
   ],
   "source": [
    "_, pval = stats.mannwhitneyu(list(de_enhancer_brain), list(logfc_b_5fCNuc_de) )\n",
    "print(\"pval TDG-KO DE genes related to all brain enhancers vs 5fC-Nuc associated enhancers\", pval)\n",
    "_, pval = stats.mannwhitneyu( list(de_enhancer_heart),\n",
    "                    list(logfc_h_5fCNuc_de))\n",
    "print(\"pval TDG-KO DE genes related to all heart enhancers vs 5fC-Nuc associated enhancers\", pval)"
   ]
  }
 ],
 "metadata": {
  "kernelspec": {
   "display_name": "Python 3",
   "language": "python",
   "name": "python3"
  },
  "language_info": {
   "codemirror_mode": {
    "name": "ipython",
    "version": 3
   },
   "file_extension": ".py",
   "mimetype": "text/x-python",
   "name": "python",
   "nbconvert_exporter": "python",
   "pygments_lexer": "ipython3",
   "version": "3.6.1"
  }
 },
 "nbformat": 4,
 "nbformat_minor": 2
}
