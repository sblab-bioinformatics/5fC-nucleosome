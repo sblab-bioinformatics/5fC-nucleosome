{
 "cells": [
  {
   "cell_type": "code",
   "execution_count": 1,
   "metadata": {
    "collapsed": true
   },
   "outputs": [],
   "source": [
    "%matplotlib inline\n",
    "import matplotlib.pyplot as plt\n",
    "import pybedtools as pb\n",
    "import numpy as np\n",
    "from scipy import stats\n",
    "import pandas as pd\n",
    "font = {'family' : 'sans-serif',\n",
    "        'weight' : 'light',\n",
    "        'size'   : '12'}\n",
    "\n",
    "plt.rc('font', **font)"
   ]
  },
  {
   "cell_type": "markdown",
   "metadata": {},
   "source": [
    "# Gene expression associated with TDG-WT / TDG-KO specific 5fC-nucleosomes, within a given tissue (heart or hindbrain)\n",
    "\n",
    "\n",
    "Compute the distribution of logFC and RPKMs from RNA-seq derived differential expression (DE) for genes associated with tissue specific enhancers between TDG-WT and TDG-KO, and a subset of those that have enhancers overlapping with tissue-unique 5fC-containing nucleosomes.\n",
    "\n",
    "The list of enhancer location and their associtate genes was taken from Suppl. Table 7 in  doi:10.1038/nature11243, also available from Mouse Encode Project at Ren Lab (http://chromosome.sdsc.edu/mouse/download.html).  \n",
    "Each enhancer site was considered to span +/-1.5 Kb around the center of the predicted enhancer. These files have been named `mm9_enhancer_brain_slop_1500.bed` and `mm9_enhancer_heart_slop_1500.bed`.\n",
    "\n",
    "This notebook requires the following datasets, \n",
    "\n",
    "- `expr_diff.ko_vs_wt_brain.edgeR.txt` and `expr_diff.ko_vs_wt_heart.edgeR.txt`, `expr_diff.brain_vs_heart_ko.edgeR.txt`, `expr_diff.brain_vs_heart_wt.edgeR.txt`, `rpkm_brain_heart_wt_and_ko.txt`, which can be obtained following \n",
    "the protocol described [here](https://github.com/sblab-bioinformatics/5fC-nucleosome/blob/master/RNA-seq/README.md).\n",
    "- `5fC_consensus_brain_WT.bed.gz`, `5fC_consensus_brain_ko.bed.gz`, `5fC_heart_consensus_WT.bed.gz`, `5fC_heart_consensus_KO.bed.gz`, which can be obtained following the protocols described [here](https://github.com/sblab-bioinformatics/5fC-nucleosome/blob/master/5fC_sites_in_heart_brain_WT_and_TDG_KO/README.md).\n",
    "- `ConsensusNucleosome_iNPS_Brain_WT_noMT.bed`, `ConsensusNucleosome_iNPS_Heart_WT_noMT.bed`, `ConsensusNucleosome_iNPS_Brain_KO_noMT.bed`, `ConsensusNucleosome_iNPS_Heart_KO_noMT.bed`, which can be obtained following the protocols described [here](https://github.com/sblab-bioinformatics/5fC-nucleosome/blob/master/MNase-seq/README.md)."
   ]
  },
  {
   "cell_type": "markdown",
   "metadata": {},
   "source": [
    "---\n",
    "Function that creates a dictionary of DE genes and their associated logFC, you can choose to filter by FDR<0.05 or not."
   ]
  },
  {
   "cell_type": "code",
   "execution_count": 2,
   "metadata": {
    "collapsed": false
   },
   "outputs": [],
   "source": [
    "def dict_expression(edgeR_fname, FDR=True):\n",
    "    dict_exp = {}\n",
    "    \n",
    "    with open(edgeR_fname, \"r\") as fo:\n",
    "        for l in fo.read().splitlines():\n",
    "            if l.split(\"\\t\")[0] != \"gene_id\":\n",
    "                gene_name = l.split(\"\\t\")[1]\n",
    "                fdr = float(l.split(\"\\t\")[-2])\n",
    "                logF = float(l.split(\"\\t\")[2])\n",
    "                if \",\" in gene_name:\n",
    "                    for test in gene_name.split(\",\"): \n",
    "                        if fdr < 0.05 or not FDR:\n",
    "                            dict_exp.setdefault(test.upper(),logF) \n",
    "                    #print gene_name, fdr\n",
    "                else:\n",
    "                    if fdr < 0.05 or not FDR:\n",
    "                        dict_exp.setdefault(gene_name.upper(),logF)\n",
    "\n",
    "\n",
    "    return dict_exp"
   ]
  },
  {
   "cell_type": "code",
   "execution_count": 3,
   "metadata": {
    "collapsed": true
   },
   "outputs": [],
   "source": [
    "# Handy functions to generate a list of genes associated with a given \n",
    "# bed file (bed_file) that are in a dictionary (expr)\n",
    "def find_genes_DE_inbed(bed_file, expr):\n",
    "    for b in bed_file:\n",
    "        if b.name.upper() in expr:\n",
    "            yield b.name\n",
    "            \n",
    "def find_DE_inbed(bed_file, expr):\n",
    "    for b in bed_file:\n",
    "        if b.name.upper() in expr:\n",
    "            yield expr[b.name.upper()]"
   ]
  },
  {
   "cell_type": "markdown",
   "metadata": {},
   "source": [
    "# TDG WT vs KO in Heart and Brain"
   ]
  },
  {
   "cell_type": "code",
   "execution_count": 4,
   "metadata": {
    "collapsed": false
   },
   "outputs": [],
   "source": [
    "expr_brain_ko_vs_wt = dict_expression(\"expr_diff.ko_vs_wt_brain.edgeR.txt\")\n",
    "expr_heart_ko_vs_wt = dict_expression(\"expr_diff.ko_vs_wt_heart.edgeR.txt\")\n",
    "expr_brain_vs_heart_ko = dict_expression(\"expr_diff.brain_vs_heart_ko.edgeR.txt\")\n",
    "expr_brain_vs_heart_wt = dict_expression(\"expr_diff.brain_vs_heart_wt.edgeR.txt\")\n",
    "# No FDR\n",
    "all_expr_brain_ko_vs_wt = dict_expression(\"expr_diff.ko_vs_wt_brain.edgeR.txt\", FDR=False)\n",
    "all_expr_heart_ko_vs_wt = dict_expression(\"expr_diff.ko_vs_wt_heart.edgeR.txt\", FDR=False)\n",
    "all_expr_brain_vs_heart_ko = dict_expression(\"expr_diff.brain_vs_heart_ko.edgeR.txt\", FDR=False)\n",
    "all_expr_brain_vs_heart_wt = dict_expression(\"expr_diff.brain_vs_heart_wt.edgeR.txt\", FDR=False)"
   ]
  },
  {
   "cell_type": "code",
   "execution_count": 5,
   "metadata": {
    "collapsed": false
   },
   "outputs": [
    {
     "name": "stdout",
     "output_type": "stream",
     "text": [
      "Number of DE genes Brain KO_vs_WT 87\n",
      "Number of DE genes Heart KO_vs_WT 188\n",
      "Number of DE genes Brain vs Heart WT 4036\n",
      "Number of DE genes Brain vs Heart KO 3100\n",
      "\n",
      "Number of total genes Brain KO_vs_WT 14415\n",
      "Number of total genes Heart KO_vs_WT 13286\n",
      "Number of total genes Brain vs Heart WT 13286\n",
      "Number of total genes Brain vs Heart KO 13286\n"
     ]
    }
   ],
   "source": [
    "print(\"Number of DE genes Brain KO_vs_WT\", len(expr_brain_ko_vs_wt))\n",
    "print(\"Number of DE genes Heart KO_vs_WT\", len(expr_heart_ko_vs_wt))\n",
    "print(\"Number of DE genes Brain vs Heart WT\", len(expr_brain_vs_heart_wt))\n",
    "print(\"Number of DE genes Brain vs Heart KO\", len(expr_brain_vs_heart_ko))\n",
    "print()\n",
    "print(\"Number of total genes Brain KO_vs_WT\", len(all_expr_brain_ko_vs_wt))\n",
    "print(\"Number of total genes Heart KO_vs_WT\", len(all_expr_heart_ko_vs_wt))\n",
    "print(\"Number of total genes Brain vs Heart WT\", len(all_expr_brain_vs_heart_wt))\n",
    "print(\"Number of total genes Brain vs Heart KO\", len(all_expr_brain_vs_heart_ko))"
   ]
  },
  {
   "cell_type": "markdown",
   "metadata": {},
   "source": [
    "# Number of DE genes for which we have enhancer annotation Brain/Heart"
   ]
  },
  {
   "cell_type": "code",
   "execution_count": 6,
   "metadata": {
    "collapsed": true
   },
   "outputs": [],
   "source": [
    "## These one-column text file simply contain unique gene names found in the Ren Lab list of brain/heart enhancers\n",
    "genes_enhancer_brain = np.genfromtxt(\"genes_in_enhancer_brain.txt\", dtype=\"str\")\n",
    "genes_enhancer_heart = np.genfromtxt(\"genes_in_enhancer_heart.txt\", dtype=\"str\")"
   ]
  },
  {
   "cell_type": "markdown",
   "metadata": {},
   "source": [
    "Create a list containing the logFC for all genes present in the Ren Lab list of \n",
    "enhancers, both for brain and heart "
   ]
  },
  {
   "cell_type": "code",
   "execution_count": 7,
   "metadata": {
    "collapsed": false
   },
   "outputs": [],
   "source": [
    "de_enhancer_brain_wt_ko = set()\n",
    "for g in genes_enhancer_brain:\n",
    "    if g.upper() in expr_brain_ko_vs_wt:\n",
    "        de_enhancer_brain_wt_ko.add(expr_brain_ko_vs_wt[g.upper()])\n",
    "de_enhancer_heart_wt_ko = set()\n",
    "for g in genes_enhancer_heart:\n",
    "    if g.upper() in expr_heart_ko_vs_wt:\n",
    "        de_enhancer_heart_wt_ko.add(expr_heart_ko_vs_wt[g.upper()])"
   ]
  },
  {
   "cell_type": "markdown",
   "metadata": {},
   "source": [
    "# All DE genes (KO vs WT, FDR<0.05) in Nucleosome-5fC (nucleosome in 5fC peak f=0.8) "
   ]
  },
  {
   "cell_type": "code",
   "execution_count": 12,
   "metadata": {
    "collapsed": true
   },
   "outputs": [],
   "source": [
    "# Built intersection. Start by reading in the bed files\n",
    "# 5fC\n",
    "cons_5fC_brain_wt = pb.BedTool(\"5fC_consensus_brain_WT.bed.gz\")\n",
    "cons_5fC_brain_ko = pb.BedTool(\"5fC_consensus_brain_ko.bed.gz\")\n",
    "cons_5fC_heart_wt = pb.BedTool(\"5fC_heart_consensus_WT.bed.gz\")\n",
    "cons_5fC_heart_ko = pb.BedTool(\"5fC_heart_consensus_KO.bed.gz\")\n",
    "# Nuc\n",
    "cons_nuc_brain_ko = pb.BedTool(\"ConsensusNucleosome_iNPS_Brain_KO_noMT.bed\")\n",
    "cons_nuc_brain_wt = pb.BedTool(\"ConsensusNucleosome_iNPS_Brain_WT_noMT.bed\")\n",
    "cons_nuc_heart_wt = pb.BedTool(\"ConsensusNucleosome_iNPS_Heart_WT_noMT.bed\")\n",
    "cons_nuc_heart_ko = pb.BedTool(\"ConsensusNucleosome_iNPS_Heart_KO_noMT.bed\")"
   ]
  },
  {
   "cell_type": "code",
   "execution_count": 13,
   "metadata": {
    "collapsed": false
   },
   "outputs": [
    {
     "name": "stdout",
     "output_type": "stream",
     "text": [
      "Brain  KO 57183\n",
      "Heart KO 92298\n",
      "Brain  WT 2127\n",
      "Heart WT 560\n"
     ]
    }
   ],
   "source": [
    "# ko intersection, nucleosome in 5fC f=0.9\n",
    "nuc_5fC_brain_ko = cons_nuc_brain_ko.intersect(cons_5fC_brain_ko, f=0.8)\n",
    "nuc_5fC_heart_ko = cons_nuc_heart_ko.intersect(cons_5fC_heart_ko, f=0.8)\n",
    "print(\"Brain  KO\", len(nuc_5fC_brain_ko))\n",
    "print(\"Heart KO\", len(nuc_5fC_heart_ko))\n",
    "nuc_5fC_brain_wt = cons_nuc_brain_wt.intersect(cons_5fC_brain_wt, f=0.8)\n",
    "nuc_5fC_heart_wt = cons_nuc_heart_wt.intersect(cons_5fC_heart_wt, f=0.8)\n",
    "print(\"Brain  WT\", len(nuc_5fC_brain_wt))\n",
    "print(\"Heart WT\", len(nuc_5fC_heart_wt))"
   ]
  },
  {
   "cell_type": "code",
   "execution_count": 14,
   "metadata": {
    "collapsed": false
   },
   "outputs": [],
   "source": [
    "# intersect with enhancers Ren Lab\n",
    "enhancers_heart = pb.BedTool(\"mm9_enhancer_heart_slop_1500.bed\")\n",
    "enhancers_brain = pb.BedTool(\"mm9_enhancer_brain_slop_1500.bed\")"
   ]
  },
  {
   "cell_type": "code",
   "execution_count": 15,
   "metadata": {
    "collapsed": false
   },
   "outputs": [
    {
     "name": "stdout",
     "output_type": "stream",
     "text": [
      "Brain nuc5fC WT 642\n",
      "Brain nuc5fC KO 12287\n",
      "Brain NOT nuc5fC WT 35026\n",
      "Brain NOT nuc5fC KO 25982\n",
      "\n",
      "Heart nuc5fC WT 106\n",
      "Heart nuc5fC KO 32950\n",
      "Heart NOT nuc5fC WT 48081\n",
      "Heart NOT nuc5fC KO 28760\n"
     ]
    }
   ],
   "source": [
    "#KO\n",
    "enhancers_nuc5fc_h_ko = enhancers_heart.intersect(nuc_5fC_heart_ko)\n",
    "enhancers_nuc5fc_b_ko = enhancers_brain.intersect(nuc_5fC_brain_ko)\n",
    "\n",
    "enhancers_not_nuc5fc_h_ko = enhancers_heart.intersect(nuc_5fC_heart_ko, v=True)\n",
    "enhancers_not_nuc5fc_b_ko = enhancers_brain.intersect(nuc_5fC_brain_ko, v=True)\n",
    "\n",
    "\n",
    "# WT\n",
    "enhancers_nuc5fc_h_wt = enhancers_heart.intersect(nuc_5fC_heart_wt)\n",
    "enhancers_nuc5fc_b_wt = enhancers_brain.intersect(nuc_5fC_brain_wt)\n",
    "\n",
    "enhancers_not_nuc5fc_h_wt = enhancers_heart.intersect(nuc_5fC_heart_wt, v=True)\n",
    "enhancers_not_nuc5fc_b_wt = enhancers_brain.intersect(nuc_5fC_brain_wt, v=True)\n",
    "\n",
    "# print\n",
    "print(\"Brain nuc5fC WT\", len(enhancers_nuc5fc_b_wt))\n",
    "print(\"Brain nuc5fC KO\", len(enhancers_nuc5fc_b_ko))\n",
    "print(\"Brain NOT nuc5fC WT\", len(enhancers_not_nuc5fc_b_wt))\n",
    "print(\"Brain NOT nuc5fC KO\", len(enhancers_not_nuc5fc_b_ko))\n",
    "\n",
    "print()\n",
    "print(\"Heart nuc5fC WT\", len(enhancers_nuc5fc_h_wt))\n",
    "print(\"Heart nuc5fC KO\", len(enhancers_nuc5fc_h_ko))\n",
    "print(\"Heart NOT nuc5fC WT\", len(enhancers_not_nuc5fc_h_wt))\n",
    "print(\"Heart NOT nuc5fC KO\", len(enhancers_not_nuc5fc_h_ko))"
   ]
  },
  {
   "cell_type": "code",
   "execution_count": 16,
   "metadata": {
    "collapsed": true
   },
   "outputs": [],
   "source": [
    "# Heart\n",
    "logfc_h_5fC_nuc_de = list((find_DE_inbed(enhancers_nuc5fc_h_ko, \n",
    "                                        expr_heart_ko_vs_wt)))\n",
    "logfc_h_not_5fC_nuc_de = list((find_DE_inbed(enhancers_not_nuc5fc_h_ko, \n",
    "                                            expr_heart_ko_vs_wt)))\n",
    "# Brain \n",
    "logfc_b_5fC_nuc_de = list((find_DE_inbed(enhancers_nuc5fc_b_ko, \n",
    "                                        expr_brain_ko_vs_wt)))\n",
    "logfc_b_not_5fC_nuc_de = list((find_DE_inbed(enhancers_not_nuc5fc_b_ko, \n",
    "                                            expr_brain_ko_vs_wt)))"
   ]
  },
  {
   "cell_type": "code",
   "execution_count": 17,
   "metadata": {
    "collapsed": false
   },
   "outputs": [
    {
     "name": "stdout",
     "output_type": "stream",
     "text": [
      "Brain DE 5fC-nuc 40\n",
      "Heart DE 5fC-nuc 220\n"
     ]
    }
   ],
   "source": [
    "print(\"Brain DE 5fC-nuc\", len(logfc_b_5fC_nuc_de))\n",
    "print(\"Heart DE 5fC-nuc\", len(logfc_h_5fC_nuc_de))"
   ]
  },
  {
   "cell_type": "code",
   "execution_count": 18,
   "metadata": {
    "collapsed": false
   },
   "outputs": [
    {
     "data": {
      "image/png": "[encoded data removed]",
      "text/plain": [
       "<matplotlib.figure.Figure at 0x118f5a518>"
      ]
     },
     "metadata": {},
     "output_type": "display_data"
    }
   ],
   "source": [
    "medianprops = dict(color='black')\n",
    "meanpointprops = dict(marker='D', markeredgecolor='black',\n",
    "                      markerfacecolor='black')\n",
    "f, ax = plt.subplots(1, 1, sharex=True,\n",
    "                    figsize=(5,4), dpi=120)\n",
    "_ = ax.boxplot([list(expr_brain_ko_vs_wt.values()), \n",
    "                    logfc_b_5fC_nuc_de, \n",
    "                    list(expr_heart_ko_vs_wt.values()), \n",
    "                    logfc_h_5fC_nuc_de], \n",
    "                medianprops=medianprops, \n",
    "               meanprops=meanpointprops,\n",
    "                showmeans=True, notch=True,\n",
    "               patch_artist=True, showfliers=False, \n",
    "               bootstrap=5000)\n",
    "names = [\"All brain\", \"Brain\\n5fC-Nuc\", \"All heart\", \"Heart\\n5fC-Nuc\"]\n",
    "colors = ['#2c7bb6', '#abd9e9',\"#d7191c\", \"#fdae61\"]\n",
    "for patch, color in zip(_['boxes'], colors):\n",
    "    patch.set_facecolor(color)\n",
    "ax.set_xticklabels(names)\n",
    "_ = ax.axhline(linestyle=\"--\")\n",
    "ax.set_ylabel(\"Diff. expression\\n log2FC KO / WT\")\n",
    "plt.savefig(\"boxplot_DE_wt_ko_5fc.pdf\", bbox_inches = 'tight')"
   ]
  },
  {
   "cell_type": "code",
   "execution_count": 29,
   "metadata": {
    "collapsed": false
   },
   "outputs": [
    {
     "name": "stdout",
     "output_type": "stream",
     "text": [
      "Pval Brain DE NOT nuc-5fC vs Brain nuc-5fC 0.00343773369415\n",
      "Pval Heart DE NOT nuc-5fC vs Heart nuc-5fC 0.0278945331389\n"
     ]
    }
   ],
   "source": [
    "_, pval = stats.mannwhitneyu(list(expr_brain_ko_vs_wt.values()), logfc_b_5fC_nuc_de, alternative='less')\n",
    "print(\"Pval Brain DE NOT nuc-5fC vs Brain nuc-5fC\", pval)\n",
    "_, pval = stats.mannwhitneyu(list(expr_heart_ko_vs_wt.values()), logfc_h_5fC_nuc_de, alternative=\"less\" )\n",
    "print(\"Pval Heart DE NOT nuc-5fC vs Heart nuc-5fC\", pval)"
   ]
  },
  {
   "cell_type": "markdown",
   "metadata": {},
   "source": [
    "# Gene expression "
   ]
  },
  {
   "cell_type": "code",
   "execution_count": 30,
   "metadata": {
    "collapsed": true
   },
   "outputs": [],
   "source": [
    "# Read it from the RNA_seq analysis where we processed everything together\n",
    "ge = pd.read_table(\"rpkm_brain_heart_wt_and_ko.txt\")"
   ]
  },
  {
   "cell_type": "code",
   "execution_count": 31,
   "metadata": {
    "collapsed": false
   },
   "outputs": [],
   "source": [
    "# Average the GE for each subclass\n",
    "ge[\"Brain_KO\"] = ge[[\"Brain_KO1\",\"Brain_KO2\", \"Brain_KO3\"]].mean(axis=1)\n",
    "ge[\"Brain_WT\"] = ge[[\"Brain_WT1\",\"Brain_WT2\", \"Brain_WT3\"]].mean(axis=1)\n",
    "ge[\"Heart_KO\"] = ge[[\"Heart_KO1\",\"Heart_KO2\", \"Heart_KO3\"]].mean(axis=1)\n",
    "ge[\"Heart_WT\"] = ge[[\"Heart_WT1\",\"Heart_WT2\", \"Heart_WT3\"]].mean(axis=1)"
   ]
  },
  {
   "cell_type": "code",
   "execution_count": 32,
   "metadata": {
    "collapsed": false
   },
   "outputs": [],
   "source": [
    "# Make a ge dictionary for each case\n",
    "def do_dict_from_ge(pd_obj, col_name):\n",
    "    dic = pd.Series(np.log(ge[col_name].values), index=ge[\"gene_name\"].str.upper()).to_dict()\n",
    "    #dic = pd.Series(ge[col_name].values, index=ge[\"gene_name\"].str.upper()).to_dict()\n",
    "    return dic"
   ]
  },
  {
   "cell_type": "code",
   "execution_count": 33,
   "metadata": {
    "collapsed": false
   },
   "outputs": [],
   "source": [
    "ge_dict = {}\n",
    "for col in [\"Brain_KO\", \"Brain_WT\", \"Heart_KO\", \"Heart_WT\"]:\n",
    "    ge_dict.setdefault(col, do_dict_from_ge(ge, col))"
   ]
  },
  {
   "cell_type": "code",
   "execution_count": 34,
   "metadata": {
    "collapsed": false
   },
   "outputs": [
    {
     "name": "stdout",
     "output_type": "stream",
     "text": [
      "Num heart 5fC-Nuc KO 26487\n",
      "Num heart not 5fC-Nuc KO 22429\n",
      "Num heart 5fC-Nuc WT 83\n",
      "Num heart not 5fC-Nuc WT 37941\n"
     ]
    }
   ],
   "source": [
    "# Heart\n",
    "ge_h_5fC_nuc_ko = list(find_DE_inbed(enhancers_nuc5fc_h_ko, ge_dict[\"Heart_KO\"]))\n",
    "ge_h_not_5fC_nuc_ko = list(find_DE_inbed(enhancers_not_nuc5fc_h_ko, ge_dict[\"Heart_KO\"]))\n",
    "ge_h_5fC_nuc_wt = list(find_DE_inbed(enhancers_nuc5fc_h_wt, ge_dict[\"Heart_WT\"]))\n",
    "ge_h_not_5fC_nuc_wt = list(find_DE_inbed(enhancers_not_nuc5fc_h_wt, ge_dict[\"Heart_WT\"]))\n",
    "print(\"Num heart 5fC-Nuc KO\", len(ge_h_5fC_nuc_ko))\n",
    "print(\"Num heart not 5fC-Nuc KO\", len(ge_h_not_5fC_nuc_ko))\n",
    "print(\"Num heart 5fC-Nuc WT\", len(ge_h_5fC_nuc_wt))\n",
    "print(\"Num heart not 5fC-Nuc WT\", len(ge_h_not_5fC_nuc_wt))"
   ]
  },
  {
   "cell_type": "code",
   "execution_count": 35,
   "metadata": {
    "collapsed": false
   },
   "outputs": [
    {
     "name": "stdout",
     "output_type": "stream",
     "text": [
      "Num brain 5fC-Nuc KO 10092\n",
      "Num brain not 5fC-Nuc KO 21074\n",
      "Num brain 5fC-Nuc WT 517\n",
      "Num brain not 5fC-Nuc WT 28525\n"
     ]
    }
   ],
   "source": [
    "# Brain\n",
    "ge_b_5fC_nuc_ko = list(find_DE_inbed(enhancers_nuc5fc_b_ko, ge_dict[\"Brain_KO\"]))\n",
    "ge_b_not_5fC_nuc_ko = list(find_DE_inbed(enhancers_not_nuc5fc_b_ko, ge_dict[\"Brain_KO\"]))\n",
    "ge_b_5fC_nuc_wt = list(find_DE_inbed(enhancers_nuc5fc_b_wt, ge_dict[\"Brain_WT\"]))\n",
    "ge_b_not_5fC_nuc_wt = list(find_DE_inbed(enhancers_not_nuc5fc_b_wt, ge_dict[\"Brain_WT\"]))\n",
    "print(\"Num brain 5fC-Nuc KO\", len(ge_b_5fC_nuc_ko))\n",
    "print(\"Num brain not 5fC-Nuc KO\", len(ge_b_not_5fC_nuc_ko))\n",
    "print(\"Num brain 5fC-Nuc WT\", len(ge_b_5fC_nuc_wt))\n",
    "print(\"Num brain not 5fC-Nuc WT\", len(ge_b_not_5fC_nuc_wt))"
   ]
  },
  {
   "cell_type": "code",
   "execution_count": 36,
   "metadata": {
    "collapsed": false
   },
   "outputs": [
    {
     "data": {
      "image/png": "[encoded data removed]",
      "text/plain": [
       "<matplotlib.figure.Figure at 0x11a63c0f0>"
      ]
     },
     "metadata": {},
     "output_type": "display_data"
    }
   ],
   "source": [
    "# Plot the distributions\n",
    "medianprops = dict(color='black')\n",
    "meanpointprops = dict(marker='D', markeredgecolor='black',\n",
    "                      markerfacecolor='black')\n",
    "f, ax = plt.subplots(1, 1, sharex=True,\n",
    "                    figsize=(6,4), dpi=120)\n",
    "_ = ax.boxplot([list(ge_dict[\"Heart_WT\"].values()),\n",
    "                 ge_h_5fC_nuc_wt, \n",
    "                 list(ge_dict[\"Heart_KO\"].values()),\n",
    "                 ge_h_5fC_nuc_ko], \n",
    "               medianprops=medianprops,\n",
    "               meanprops=meanpointprops, patch_artist=True, \n",
    "                showfliers=False, notch=True, showmeans=True)\n",
    "names = [\"All\\nWT\", \"5fC\\nWT\", \"All\\nKO\", \"5fC\\nKO\"]\n",
    "ax.set_ylabel(\"Gene Expression (log(RPKM))\")\n",
    "colors = ['#2c7bb6', '#abd9e9',\"#d7191c\", \"#fdae61\"]\n",
    "for patch, color in zip(_['boxes'], colors):\n",
    "    patch.set_facecolor(color)\n",
    "#ax.set_title(\"Heart\")\n",
    "ax.set_xticklabels(names)\n",
    "plt.savefig(\"boxplot_heart_log_gene_expression_wt_ko_5fc.pdf\")"
   ]
  },
  {
   "cell_type": "code",
   "execution_count": 37,
   "metadata": {
    "collapsed": false
   },
   "outputs": [
    {
     "data": {
      "image/png": "[encoded data removed]",
      "text/plain": [
       "<matplotlib.figure.Figure at 0x11a9c5438>"
      ]
     },
     "metadata": {},
     "output_type": "display_data"
    }
   ],
   "source": [
    "# Combine for gene expression for brain/heart in TDG WT\n",
    "medianprops = dict(color='black')\n",
    "meanpointprops = dict(marker='D', markeredgecolor='black',\n",
    "                      markerfacecolor='black')\n",
    "f, ax = plt.subplots(1, 1, sharex=True,\n",
    "                    figsize=(5,4), dpi=120)\n",
    "_ = ax.boxplot([list(ge_dict[\"Brain_WT\"].values()),\n",
    "                 ge_b_5fC_nuc_wt, \n",
    "                 list(ge_dict[\"Heart_WT\"].values()),\n",
    "                 ge_h_5fC_nuc_wt], \n",
    "                 medianprops=medianprops,\n",
    "               meanprops=meanpointprops,\n",
    "               patch_artist=True,\n",
    "                showfliers=False, notch=True, showmeans=True, \n",
    "              bootstrap=5000)\n",
    "names = [\"All\", \"5fC\", \"All\", \"5fC\"]\n",
    "colors = ['#2c7bb6', '#abd9e9',\"#d7191c\", \"#fdae61\"]\n",
    "for patch, color in zip(_['boxes'], colors):\n",
    "    patch.set_facecolor(color)\n",
    "ax.set_ylabel(\"Gene Expression (log(RPKM))\")\n",
    "#ax.set_title(\"Heart\")\n",
    "ax.set_xticklabels(names)\n",
    "plt.savefig(\"boxplot_brain_heart_log_gene_expression_wt_5fc.pdf\", bbox_inches = 'tight')\n"
   ]
  },
  {
   "cell_type": "code",
   "execution_count": 39,
   "metadata": {
    "collapsed": false
   },
   "outputs": [
    {
     "name": "stdout",
     "output_type": "stream",
     "text": [
      "pval All enhancers expression vs only 5fC-related in brain 3.03964692069e-08\n",
      "pval All enhancers expression vs only 5fC-related in heart 0.0949819423119\n"
     ]
    }
   ],
   "source": [
    "_, pval = stats.mannwhitneyu(list(ge_dict[\"Brain_WT\"].values()), ge_b_5fC_nuc_wt, alternative='less')\n",
    "print(\"pval All enhancers expression vs only 5fC-related in brain\", pval)\n",
    "_, pval = stats.mannwhitneyu(list(ge_dict[\"Heart_WT\"].values()), ge_h_5fC_nuc_wt, alternative='less' )\n",
    "print(\"pval All enhancers expression vs only 5fC-related in heart\", pval)\n"
   ]
  },
  {
   "cell_type": "code",
   "execution_count": 26,
   "metadata": {
    "collapsed": false
   },
   "outputs": [
    {
     "name": "stdout",
     "output_type": "stream",
     "text": [
      "pval GE Brain WT and 5fC nuc WT 3.03964692069e-08\n",
      "pval GE Brain KO vs b 5fC nuc KO 8.13351852979e-28\n"
     ]
    }
   ],
   "source": [
    "_, pval = stats.mannwhitneyu(list(ge_dict[\"Brain_WT\"].values()), ge_b_5fC_nuc_wt )\n",
    "print(\"pval GE Brain WT and 5fC nuc WT\", pval)\n",
    "_, pval = stats.mannwhitneyu(list(ge_dict[\"Brain_KO\"].values()), ge_b_5fC_nuc_ko )\n",
    "print(\"pval GE Brain KO vs b 5fC nuc KO\", pval)"
   ]
  }
 ],
 "metadata": {
  "kernelspec": {
   "display_name": "Python 3",
   "language": "python",
   "name": "python3"
  },
  "language_info": {
   "codemirror_mode": {
    "name": "ipython",
    "version": 3
   },
   "file_extension": ".py",
   "mimetype": "text/x-python",
   "name": "python",
   "nbconvert_exporter": "python",
   "pygments_lexer": "ipython3",
   "version": "3.6.1"
  }
 },
 "nbformat": 4,
 "nbformat_minor": 2
}
